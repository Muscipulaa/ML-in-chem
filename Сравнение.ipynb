{
  "nbformat": 4,
  "nbformat_minor": 0,
  "metadata": {
    "colab": {
      "provenance": []
    },
    "kernelspec": {
      "name": "python3",
      "display_name": "Python 3"
    },
    "language_info": {
      "name": "python"
    }
  },
  "cells": [
    {
      "cell_type": "code",
      "execution_count": 1,
      "metadata": {
        "id": "9GHOWXKnnVg8"
      },
      "outputs": [],
      "source": [
        "import pandas as pd\n",
        "from sklearn.metrics import mean_squared_error, r2_score, mean_absolute_error\n",
        "from scipy.stats import pearsonr\n"
      ]
    },
    {
      "cell_type": "code",
      "source": [
        "gcn_true = pd.read_csv('y_true_GCN.csv')\n",
        "gcn_pred = pd.read_csv('y_pred_GCN.csv')\n"
      ],
      "metadata": {
        "id": "YvY5RsF0FEXV"
      },
      "execution_count": 6,
      "outputs": []
    },
    {
      "cell_type": "code",
      "source": [
        "gcn_mse = mean_squared_error(gcn_true, gcn_pred)\n",
        "gcn_r2 = r2_score(gcn_true, gcn_pred)\n",
        "gcn_mae = mean_absolute_error(gcn_true, gcn_pred)\n",
        "gcn_pearson = pearsonr(gcn_true.values.flatten(), gcn_pred.values.flatten())[0]"
      ],
      "metadata": {
        "id": "dX16PMxyFOQ9"
      },
      "execution_count": 7,
      "outputs": []
    },
    {
      "cell_type": "code",
      "source": [
        "print(\"Метрики для модели GCN:\")\n",
        "print(\"MSE:\", gcn_mse)\n",
        "print(\"R^2:\", gcn_r2)\n",
        "print(\"MAE:\", gcn_mae)\n",
        "print(\"Pearson Correlation:\", gcn_pearson)"
      ],
      "metadata": {
        "colab": {
          "base_uri": "https://localhost:8080/"
        },
        "id": "42CSlvg5FUDq",
        "outputId": "4ecb595b-7d87-4343-a145-f79a1a103c0d"
      },
      "execution_count": 12,
      "outputs": [
        {
          "output_type": "stream",
          "name": "stdout",
          "text": [
            "Метрики для модели GCN:\n",
            "MSE: 0.12121787240466955\n",
            "R^2: 0.8553904164247961\n",
            "MAE: 0.27652786824425374\n",
            "Pearson Correlation: 0.9305499538360623\n"
          ]
        }
      ]
    },
    {
      "cell_type": "code",
      "source": [
        "GD_train_MSE = 3.2720046594399417\n",
        "GD_train_R2 = -2.875599330864896"
      ],
      "metadata": {
        "id": "1G3_5ZzJSnQ6"
      },
      "execution_count": 14,
      "outputs": []
    },
    {
      "cell_type": "code",
      "source": [
        "\n",
        "print(\"\\nМетрики для модели градиентного спуска:\")\n",
        "print(\"MSE:\", GD_train_MSE)\n",
        "print(\"R^2:\", GD_train_R2)\n"
      ],
      "metadata": {
        "colab": {
          "base_uri": "https://localhost:8080/"
        },
        "id": "Qak-Z2MYFZvW",
        "outputId": "d502840a-80ae-4ed8-fe7f-bc19f260b1a4"
      },
      "execution_count": 16,
      "outputs": [
        {
          "output_type": "stream",
          "name": "stdout",
          "text": [
            "\n",
            "Метрики для модели градиентного спуска:\n",
            "MSE: 3.2720046594399417\n",
            "R^2: -2.875599330864896\n"
          ]
        }
      ]
    }
  ]
}