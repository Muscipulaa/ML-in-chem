{
  "nbformat": 4,
  "nbformat_minor": 0,
  "metadata": {
    "colab": {
      "provenance": []
    },
    "kernelspec": {
      "name": "python3",
      "display_name": "Python 3"
    },
    "language_info": {
      "name": "python"
    }
  },
  "cells": [
    {
      "cell_type": "code",
      "source": [
        "!pip install rdkit"
      ],
      "metadata": {
        "colab": {
          "base_uri": "https://localhost:8080/"
        },
        "id": "pFTHp7t2-MWp",
        "outputId": "8d494d32-a982-432c-efc2-da17a62ad1bf"
      },
      "execution_count": 2,
      "outputs": [
        {
          "output_type": "stream",
          "name": "stdout",
          "text": [
            "Collecting rdkit\n",
            "  Downloading rdkit-2023.9.6-cp310-cp310-manylinux_2_17_x86_64.manylinux2014_x86_64.whl (34.9 MB)\n",
            "\u001b[2K     \u001b[90m━━━━━━━━━━━━━━━━━━━━━━━━━━━━━━━━━━━━━━━━\u001b[0m \u001b[32m34.9/34.9 MB\u001b[0m \u001b[31m25.4 MB/s\u001b[0m eta \u001b[36m0:00:00\u001b[0m\n",
            "\u001b[?25hRequirement already satisfied: numpy in /usr/local/lib/python3.10/dist-packages (from rdkit) (1.25.2)\n",
            "Requirement already satisfied: Pillow in /usr/local/lib/python3.10/dist-packages (from rdkit) (9.4.0)\n",
            "Installing collected packages: rdkit\n",
            "Successfully installed rdkit-2023.9.6\n"
          ]
        }
      ]
    },
    {
      "cell_type": "code",
      "source": [
        "import pandas as pd\n",
        "import numpy as np\n",
        "from rdkit import Chem\n",
        "from rdkit.Chem import AllChem\n",
        "from rdkit.Chem.rdMolDescriptors import GetMACCSKeysFingerprint\n",
        "from rdkit.Chem.Crippen import MolLogP\n",
        "import matplotlib.pyplot as plt\n",
        "from sklearn.model_selection import train_test_split"
      ],
      "metadata": {
        "id": "crlTNTDr6_tk"
      },
      "execution_count": 156,
      "outputs": []
    },
    {
      "cell_type": "code",
      "source": [
        "df = pd.read_csv(r\"/content/dataset_v1.csv\", usecols = ['SMILES'])\n",
        "#не тянет весь датасет\n",
        "df = df.sample(n = 13000, random_state = 9)\n",
        "train_smiles, test_smiles = train_test_split(df['SMILES'], test_size=0.2, random_state=42)\n",
        "print(df.head())\n",
        "#list_of_smiles = df['SMILES']\n"
      ],
      "metadata": {
        "colab": {
          "base_uri": "https://localhost:8080/"
        },
        "id": "WjvcEoMC7AHO",
        "outputId": "e0bd8be3-3a3f-432f-e012-dfb1ff5e6ed4"
      },
      "execution_count": 157,
      "outputs": [
        {
          "output_type": "stream",
          "name": "stdout",
          "text": [
            "                                           SMILES\n",
            "49574             O=c1ccc2cc(O)c(OCc3ccccc3)cc2o1\n",
            "1530849           CC1Cc2nc(N)nn2CC1c1ccc(O)c(F)c1\n",
            "1007434  CC(CN1CCOCC1)NC(=O)Cn1cc(C(F)(F)F)ccc1=O\n",
            "1863635      O=S(=O)(NCc1cc2ccccn2n1)c1c(F)cccc1F\n",
            "771230      Cc1ccc(OCC(=O)OCc2cccc(C(N)=O)c2)cc1C\n"
          ]
        }
      ]
    },
    {
      "cell_type": "code",
      "source": [
        "def mols(smiles_or_mol):\n",
        "    if isinstance(smiles_or_mol, str):\n",
        "        if len(smiles_or_mol) == 0:\n",
        "            return None\n",
        "        mol = Chem.MolFromSmiles(smiles_or_mol)\n",
        "\n",
        "        if mol is None:\n",
        "            return None\n",
        "        try:\n",
        "            Chem.SanitizeMol(mol) # Исправляет неккоректную структуру молекулы\n",
        "        except ValueError:\n",
        "            return None\n",
        "        fingerprint = GetMACCSKeysFingerprint(mol)\n",
        "        logp = Chem.Crippen.MolLogP(mol)\n",
        "        return fingerprint, logp\n",
        "    return smiles_or_mol"
      ],
      "metadata": {
        "id": "UTNLZoAp7Bar"
      },
      "execution_count": 158,
      "outputs": []
    },
    {
      "cell_type": "code",
      "source": [
        "# Создаю список Mol объектов из SMILES и получаю MACCS ключей и значений logP для каждой молекулы\n",
        "fingers_train = []\n",
        "logp_list_train = []\n",
        "for smiles in train_smiles:\n",
        "    fingerprint, logp = mols(smiles)\n",
        "    if fingerprint is not None and logp is not None:\n",
        "        fingers_train.append(fingerprint)\n",
        "        logp_list_train.append(logp)\n",
        "print(fingers_train[:5])\n",
        "print(logp_list_train[:5])"
      ],
      "metadata": {
        "colab": {
          "base_uri": "https://localhost:8080/"
        },
        "id": "2PNc7Tt-zGe7",
        "outputId": "5fe377d2-d40a-42bb-fcb4-814439ac398c"
      },
      "execution_count": 159,
      "outputs": [
        {
          "output_type": "stream",
          "name": "stdout",
          "text": [
            "[<rdkit.DataStructs.cDataStructs.ExplicitBitVect object at 0x7f23c8533d10>, <rdkit.DataStructs.cDataStructs.ExplicitBitVect object at 0x7f23be8aef10>, <rdkit.DataStructs.cDataStructs.ExplicitBitVect object at 0x7f23be8af370>, <rdkit.DataStructs.cDataStructs.ExplicitBitVect object at 0x7f23c67c7c30>, <rdkit.DataStructs.cDataStructs.ExplicitBitVect object at 0x7f23c680ee30>]\n",
            "[3.4470800000000015, 1.4331999999999998, 3.0237000000000007, 3.5244200000000028, 2.4758200000000006]\n"
          ]
        }
      ]
    },
    {
      "cell_type": "code",
      "source": [
        "X_train = np.array(fingers_train)\n",
        "y_train = np.array(logp_list_train)"
      ],
      "metadata": {
        "id": "hZOdIrsWy-x4"
      },
      "execution_count": 160,
      "outputs": []
    },
    {
      "cell_type": "code",
      "source": [
        "# Создаю список Mol объектов из SMILES и получаю MACCS ключей и значений logP для каждой молекулы\n",
        "fingers_test = []\n",
        "logp_list_test = []\n",
        "for smiles in test_smiles:\n",
        "    fingerprint, logp = mols(smiles)\n",
        "    if fingerprint is not None and logp is not None:\n",
        "        fingers_test.append(fingerprint)\n",
        "        logp_list_test.append(logp)\n",
        "print(fingers_test[:5])\n",
        "print(logp_list_test[:5])"
      ],
      "metadata": {
        "colab": {
          "base_uri": "https://localhost:8080/"
        },
        "id": "4vCH_Hfl7DoW",
        "outputId": "4dd5da7d-2e9e-4d42-dd16-9a6f977c8949"
      },
      "execution_count": 161,
      "outputs": [
        {
          "output_type": "stream",
          "name": "stdout",
          "text": [
            "[<rdkit.DataStructs.cDataStructs.ExplicitBitVect object at 0x7f23be703bc0>, <rdkit.DataStructs.cDataStructs.ExplicitBitVect object at 0x7f23be703c30>, <rdkit.DataStructs.cDataStructs.ExplicitBitVect object at 0x7f23be703ca0>, <rdkit.DataStructs.cDataStructs.ExplicitBitVect object at 0x7f23be703d10>, <rdkit.DataStructs.cDataStructs.ExplicitBitVect object at 0x7f23be703d80>]\n",
            "[1.729, 1.81908, 2.4681000000000006, 3.327700000000002, 1.9595999999999998]\n"
          ]
        }
      ]
    },
    {
      "cell_type": "code",
      "source": [
        "# Преобразую данных в массивы numpy\n",
        "X_test = np.array(fingers_test)\n",
        "y_test = np.array(logp_list_test)\n",
        "X_train = np.hstack((np.ones((X_train.shape[0], 1)), X_train))\n",
        "X_test = np.hstack((np.ones((X_test.shape[0], 1)), X_test))\n",
        "print(y_test.shape)\n",
        "print(y_train.shape)"
      ],
      "metadata": {
        "colab": {
          "base_uri": "https://localhost:8080/"
        },
        "id": "wUHWHl747IoC",
        "outputId": "c4b93353-1850-4e7d-80f3-387cbe240604"
      },
      "execution_count": 162,
      "outputs": [
        {
          "output_type": "stream",
          "name": "stdout",
          "text": [
            "(2600,)\n",
            "(10400,)\n"
          ]
        }
      ]
    },
    {
      "cell_type": "code",
      "source": [
        "print(X_test.shape)\n",
        "print(X_train.shape)"
      ],
      "metadata": {
        "colab": {
          "base_uri": "https://localhost:8080/"
        },
        "id": "onmh6V_G3BWK",
        "outputId": "4218328c-6056-4d8a-d9f8-0ab0e67b85f4"
      },
      "execution_count": 163,
      "outputs": [
        {
          "output_type": "stream",
          "name": "stdout",
          "text": [
            "(2600, 168)\n",
            "(10400, 168)\n"
          ]
        }
      ]
    },
    {
      "cell_type": "code",
      "source": [
        "# Веса\n",
        "weights = np.random.rand(X_train.shape[1], 1)\n",
        "#weights = weights.T\n",
        "# Гиперпараметры\n",
        "learning_rate = 0.001\n",
        "max_iter = 100\n",
        "print(weights.shape)"
      ],
      "metadata": {
        "id": "pxAf_U2c7mWP",
        "colab": {
          "base_uri": "https://localhost:8080/"
        },
        "outputId": "0a0f6bb3-8b3f-4e6e-8856-20c1e553ad57"
      },
      "execution_count": 164,
      "outputs": [
        {
          "output_type": "stream",
          "name": "stdout",
          "text": [
            "(168, 1)\n"
          ]
        }
      ]
    },
    {
      "cell_type": "code",
      "source": [
        "def line(x, w, b):\n",
        "  y_predict = np.dot(x, w) + b\n",
        "  return y_predict.flatten()\n",
        "\n",
        "def loss(y_true, y_predict):\n",
        "  l = 0\n",
        "\n",
        "  for i in range(len(y_true)):\n",
        "    l += (y_true[i] - y_predict[i])**2\n",
        "  return l / len(y_true)"
      ],
      "metadata": {
        "id": "LQj1YLg-7LMs"
      },
      "execution_count": 165,
      "outputs": []
    },
    {
      "cell_type": "code",
      "source": [
        "def derivative_w_analytic(w, b, X, y):\n",
        "    dldw = 0\n",
        "    dldw = 2 * np.dot(X.T, np.dot(X, w) + b - y) / len(y)\n",
        "    return dldw.mean(axis=1, keepdims=True)\n",
        "\n",
        "\n",
        "def derivative_b_analytic(w, b, X, y):\n",
        "\n",
        "    dldb = 2 * (np.dot(X, w) + b - y)\n",
        "    return dldb.mean(axis=1)"
      ],
      "metadata": {
        "id": "C5RiEYxB7PE5"
      },
      "execution_count": 166,
      "outputs": []
    },
    {
      "cell_type": "code",
      "source": [
        "# print(derivative_w_numeric(0.6, 2, delta=0.0001))\n",
        "# print(derivative_w_numeric(0.23, 2, delta=0.0001))\n",
        "\n",
        "print(derivative_w_analytic(weights, 1, X_test, y_test))\n",
        "print(derivative_b_analytic(weights, 1, X_test, y_test))\n",
        "\n",
        "print(derivative_w_analytic(weights, 1, X_train, y_train))\n",
        "print(derivative_b_analytic(weights, 1, X_train, y_train))\n",
        "\n",
        "print(derivative_w_analytic(weights, 1, X_test, y_test).shape)\n",
        "print(derivative_b_analytic(weights, 1, X_test, y_test).shape)\n",
        "print(derivative_w_analytic(weights, 1, X_train, y_train).shape)\n",
        "print(derivative_b_analytic(weights, 1, X_train, y_train).shape)\n",
        "print(weights.shape)"
      ],
      "metadata": {
        "colab": {
          "base_uri": "https://localhost:8080/"
        },
        "id": "vMkkLGya7Rde",
        "outputId": "8786ada2-99e4-49d5-bb60-b3d035899072"
      },
      "execution_count": 167,
      "outputs": [
        {
          "output_type": "stream",
          "name": "stdout",
          "text": [
            "[[4.31562349e+01]\n",
            " [0.00000000e+00]\n",
            " [0.00000000e+00]\n",
            " [0.00000000e+00]\n",
            " [0.00000000e+00]\n",
            " [0.00000000e+00]\n",
            " [0.00000000e+00]\n",
            " [0.00000000e+00]\n",
            " [0.00000000e+00]\n",
            " [1.50637119e-01]\n",
            " [0.00000000e+00]\n",
            " [0.00000000e+00]\n",
            " [4.93801651e-01]\n",
            " [0.00000000e+00]\n",
            " [0.00000000e+00]\n",
            " [0.00000000e+00]\n",
            " [0.00000000e+00]\n",
            " [0.00000000e+00]\n",
            " [3.64915567e-01]\n",
            " [0.00000000e+00]\n",
            " [1.34741539e+00]\n",
            " [0.00000000e+00]\n",
            " [0.00000000e+00]\n",
            " [2.44488573e+00]\n",
            " [1.01742826e+00]\n",
            " [0.00000000e+00]\n",
            " [1.70915360e+00]\n",
            " [4.94696736e-02]\n",
            " [0.00000000e+00]\n",
            " [5.89035980e-01]\n",
            " [0.00000000e+00]\n",
            " [0.00000000e+00]\n",
            " [0.00000000e+00]\n",
            " [4.52781509e+00]\n",
            " [4.85869570e+00]\n",
            " [5.61851231e-01]\n",
            " [0.00000000e+00]\n",
            " [7.29127798e+00]\n",
            " [6.58405148e+00]\n",
            " [1.06643826e+01]\n",
            " [3.54797366e-02]\n",
            " [3.54797366e-02]\n",
            " [3.02934293e+00]\n",
            " [7.85890798e+00]\n",
            " [3.40931288e+00]\n",
            " [0.00000000e+00]\n",
            " [2.49771220e-01]\n",
            " [1.15253183e+00]\n",
            " [7.11552574e+00]\n",
            " [3.54797366e-02]\n",
            " [0.00000000e+00]\n",
            " [4.55742621e-01]\n",
            " [4.83376039e+00]\n",
            " [1.29038184e+01]\n",
            " [2.92592374e+00]\n",
            " [3.63548083e+00]\n",
            " [5.11961316e+00]\n",
            " [0.00000000e+00]\n",
            " [1.25009701e+01]\n",
            " [5.11961316e+00]\n",
            " [6.68026719e+00]\n",
            " [5.16464100e+00]\n",
            " [5.16464100e+00]\n",
            " [1.34474595e+01]\n",
            " [0.00000000e+00]\n",
            " [7.18774806e+00]\n",
            " [2.86874459e+01]\n",
            " [4.51485849e+00]\n",
            " [5.40397242e+00]\n",
            " [0.00000000e+00]\n",
            " [4.30132060e+00]\n",
            " [1.66244497e+00]\n",
            " [3.38343289e+00]\n",
            " [6.76629939e+00]\n",
            " [5.16464100e+00]\n",
            " [5.94316068e+00]\n",
            " [2.29546098e+01]\n",
            " [4.88401677e-01]\n",
            " [2.12162679e+01]\n",
            " [4.45982590e-01]\n",
            " [2.36555152e+01]\n",
            " [2.53861363e+01]\n",
            " [1.34980092e+01]\n",
            " [1.44946521e+01]\n",
            " [2.76900617e+01]\n",
            " [4.90184429e+00]\n",
            " [2.09745125e+01]\n",
            " [1.62614845e+01]\n",
            " [1.11218986e+01]\n",
            " [1.43621623e+01]\n",
            " [5.12166981e+00]\n",
            " [1.45476199e+01]\n",
            " [1.51453932e+01]\n",
            " [3.14205903e+01]\n",
            " [1.63374450e+01]\n",
            " [1.96708557e+01]\n",
            " [2.29939112e+01]\n",
            " [2.83621052e+01]\n",
            " [2.33983991e+01]\n",
            " [2.28776151e+01]\n",
            " [1.28969514e+00]\n",
            " [2.96755058e+01]\n",
            " [1.53577089e+01]\n",
            " [8.31864214e+00]\n",
            " [4.41105062e+00]\n",
            " [1.65559785e+01]\n",
            " [1.60253271e+01]\n",
            " [1.80504045e+01]\n",
            " [1.26044050e+01]\n",
            " [1.24784712e+01]\n",
            " [1.39404017e+01]\n",
            " [3.55038899e+01]\n",
            " [3.13548012e+01]\n",
            " [1.05684134e+01]\n",
            " [1.59238335e+01]\n",
            " [8.57060775e+00]\n",
            " [9.31744902e+00]\n",
            " [1.04402015e+01]\n",
            " [3.78892647e+01]\n",
            " [2.46482665e+01]\n",
            " [4.45982590e-01]\n",
            " [3.15118167e+01]\n",
            " [3.61599094e+01]\n",
            " [2.85202296e+01]\n",
            " [5.27684236e+00]\n",
            " [2.00343839e+01]\n",
            " [3.12278125e+01]\n",
            " [1.57005150e+01]\n",
            " [1.79983153e+01]\n",
            " [1.94652262e+01]\n",
            " [2.03869612e+01]\n",
            " [8.12306427e+00]\n",
            " [1.27542475e+01]\n",
            " [2.27576893e+01]\n",
            " [2.30397237e+01]\n",
            " [1.26044050e+01]\n",
            " [2.16477090e+01]\n",
            " [1.77989950e+01]\n",
            " [3.84869929e+01]\n",
            " [2.19340339e+01]\n",
            " [3.63126272e+00]\n",
            " [5.18365676e+00]\n",
            " [9.38278087e+00]\n",
            " [3.89363897e+01]\n",
            " [1.79983153e+01]\n",
            " [2.68201420e+01]\n",
            " [2.44983850e+01]\n",
            " [1.76722459e+01]\n",
            " [2.56420067e+01]\n",
            " [3.01718985e+01]\n",
            " [2.06004486e+01]\n",
            " [2.56419145e+01]\n",
            " [3.20399450e+01]\n",
            " [1.94472052e+01]\n",
            " [3.53788710e+01]\n",
            " [3.61153004e+01]\n",
            " [3.23962515e+01]\n",
            " [4.27789732e+01]\n",
            " [2.26050266e+01]\n",
            " [4.14981896e+01]\n",
            " [3.31046295e+01]\n",
            " [3.46270801e+01]\n",
            " [4.29796671e+01]\n",
            " [4.22093352e+01]\n",
            " [4.13049687e+01]\n",
            " [4.19164104e+01]\n",
            " [4.31132008e+01]\n",
            " [0.00000000e+00]]\n",
            "[54.04640924 43.42250585 33.72099666 ... 51.83334943 35.20873703\n",
            " 48.36772274]\n",
            "[[4.28469761e+01]\n",
            " [0.00000000e+00]\n",
            " [0.00000000e+00]\n",
            " [0.00000000e+00]\n",
            " [0.00000000e+00]\n",
            " [0.00000000e+00]\n",
            " [0.00000000e+00]\n",
            " [0.00000000e+00]\n",
            " [0.00000000e+00]\n",
            " [1.88360531e-01]\n",
            " [0.00000000e+00]\n",
            " [0.00000000e+00]\n",
            " [5.74065122e-01]\n",
            " [0.00000000e+00]\n",
            " [4.44988049e-03]\n",
            " [0.00000000e+00]\n",
            " [2.97214998e-03]\n",
            " [0.00000000e+00]\n",
            " [4.00337453e-01]\n",
            " [0.00000000e+00]\n",
            " [1.19814581e+00]\n",
            " [0.00000000e+00]\n",
            " [2.30669119e-02]\n",
            " [2.46347187e+00]\n",
            " [9.95331665e-01]\n",
            " [2.10594805e-02]\n",
            " [1.91661624e+00]\n",
            " [5.13572611e-02]\n",
            " [0.00000000e+00]\n",
            " [5.65742515e-01]\n",
            " [0.00000000e+00]\n",
            " [0.00000000e+00]\n",
            " [3.74136906e-03]\n",
            " [4.57013148e+00]\n",
            " [4.91738019e+00]\n",
            " [5.65113857e-01]\n",
            " [0.00000000e+00]\n",
            " [7.86433408e+00]\n",
            " [6.19303001e+00]\n",
            " [1.04614146e+01]\n",
            " [7.70343610e-02]\n",
            " [7.70343610e-02]\n",
            " [2.43003751e+00]\n",
            " [7.73210081e+00]\n",
            " [3.16790285e+00]\n",
            " [0.00000000e+00]\n",
            " [2.11934570e-01]\n",
            " [1.13247525e+00]\n",
            " [7.09155726e+00]\n",
            " [7.70343610e-02]\n",
            " [0.00000000e+00]\n",
            " [4.06998969e-01]\n",
            " [5.02108290e+00]\n",
            " [1.26489822e+01]\n",
            " [3.11450331e+00]\n",
            " [3.76152703e+00]\n",
            " [5.28727690e+00]\n",
            " [0.00000000e+00]\n",
            " [1.21431120e+01]\n",
            " [5.29072083e+00]\n",
            " [6.66904882e+00]\n",
            " [5.36833160e+00]\n",
            " [5.36833160e+00]\n",
            " [1.28587454e+01]\n",
            " [0.00000000e+00]\n",
            " [7.05635450e+00]\n",
            " [2.88256332e+01]\n",
            " [3.72342338e+00]\n",
            " [5.68395037e+00]\n",
            " [0.00000000e+00]\n",
            " [4.69361764e+00]\n",
            " [1.76738268e+00]\n",
            " [3.00454023e+00]\n",
            " [6.51544886e+00]\n",
            " [5.36833160e+00]\n",
            " [5.90570149e+00]\n",
            " [2.24994212e+01]\n",
            " [4.60629336e-01]\n",
            " [2.08279812e+01]\n",
            " [3.59665549e-01]\n",
            " [2.32471849e+01]\n",
            " [2.47369416e+01]\n",
            " [1.36754439e+01]\n",
            " [1.39851596e+01]\n",
            " [2.77480850e+01]\n",
            " [4.87138222e+00]\n",
            " [2.08681649e+01]\n",
            " [1.58019939e+01]\n",
            " [1.13335752e+01]\n",
            " [1.45760766e+01]\n",
            " [5.30111510e+00]\n",
            " [1.38514322e+01]\n",
            " [1.43893126e+01]\n",
            " [3.14150071e+01]\n",
            " [1.63012458e+01]\n",
            " [1.91091786e+01]\n",
            " [2.25322060e+01]\n",
            " [2.83903521e+01]\n",
            " [2.26863784e+01]\n",
            " [2.25297477e+01]\n",
            " [1.20081266e+00]\n",
            " [2.91354739e+01]\n",
            " [1.51439865e+01]\n",
            " [8.14188508e+00]\n",
            " [4.73716355e+00]\n",
            " [1.62731374e+01]\n",
            " [1.57444202e+01]\n",
            " [1.75637603e+01]\n",
            " [1.27941721e+01]\n",
            " [1.22459820e+01]\n",
            " [1.32492973e+01]\n",
            " [3.51170857e+01]\n",
            " [3.06018828e+01]\n",
            " [9.90333245e+00]\n",
            " [1.59571791e+01]\n",
            " [8.40342610e+00]\n",
            " [9.36207633e+00]\n",
            " [1.02655429e+01]\n",
            " [3.74193105e+01]\n",
            " [2.32725576e+01]\n",
            " [3.59665549e-01]\n",
            " [3.09028246e+01]\n",
            " [3.54127467e+01]\n",
            " [2.78906440e+01]\n",
            " [5.53279391e+00]\n",
            " [1.97190636e+01]\n",
            " [3.13305066e+01]\n",
            " [1.52790171e+01]\n",
            " [1.79755312e+01]\n",
            " [1.79081111e+01]\n",
            " [1.94328718e+01]\n",
            " [8.41534644e+00]\n",
            " [1.31395938e+01]\n",
            " [2.18547954e+01]\n",
            " [2.29232906e+01]\n",
            " [1.27979134e+01]\n",
            " [2.17512926e+01]\n",
            " [1.83872698e+01]\n",
            " [3.78985853e+01]\n",
            " [2.11692122e+01]\n",
            " [4.00861810e+00]\n",
            " [5.41360721e+00]\n",
            " [9.55835069e+00]\n",
            " [3.82706372e+01]\n",
            " [1.79755312e+01]\n",
            " [2.69238722e+01]\n",
            " [2.39731292e+01]\n",
            " [1.76645424e+01]\n",
            " [2.44695960e+01]\n",
            " [3.00141010e+01]\n",
            " [2.08603325e+01]\n",
            " [2.58903794e+01]\n",
            " [3.18140805e+01]\n",
            " [1.94400242e+01]\n",
            " [3.44734582e+01]\n",
            " [3.61539339e+01]\n",
            " [3.16725370e+01]\n",
            " [4.23155983e+01]\n",
            " [2.20708184e+01]\n",
            " [4.11375114e+01]\n",
            " [3.30936048e+01]\n",
            " [3.43536830e+01]\n",
            " [4.25842839e+01]\n",
            " [4.21034063e+01]\n",
            " [4.06457115e+01]\n",
            " [4.15615761e+01]\n",
            " [4.28312727e+01]\n",
            " [0.00000000e+00]]\n",
            "[39.67535038 55.93923048 39.94460458 ... 43.84969839 41.06772792\n",
            " 50.39321561]\n",
            "(168, 1)\n",
            "(2600,)\n",
            "(168, 1)\n",
            "(10400,)\n",
            "(168, 1)\n"
          ]
        }
      ]
    },
    {
      "cell_type": "code",
      "source": [
        "# def get_grad(y_predicted, y):\n",
        "#     error = (y_predicted - y)\n",
        "#     gradient = 2*np.dot(error.T, X)/len(y)\n",
        "#     return gradient\n",
        "from tqdm import tqdm\n",
        "\n",
        "def gd_algorithm(w_start, b_start, X_train, y_train, learning_rate=learning_rate, max_iter=100):\n",
        "  w, b = w_start, b_start\n",
        "  ll = []\n",
        "  X = X_train\n",
        "  y = y_train\n",
        "  for iter in tqdm(range(max_iter)):\n",
        "    y_predicted = line(X, w, b)\n",
        "    l = loss(y, y_predicted)\n",
        "    ll.append(l)\n",
        "\n",
        "    w = w - learning_rate * derivative_w_analytic(w, b, X, y)\n",
        "    b = b - learning_rate * derivative_b_analytic(w, b, X, y)\n",
        "  return w, b, ll\n",
        "\n"
      ],
      "metadata": {
        "id": "B3szrH0u7Ukj"
      },
      "execution_count": 168,
      "outputs": []
    },
    {
      "cell_type": "code",
      "source": [
        "w_opt, b_opt, ll = gd_algorithm(weights, 1, X_train, y_train, learning_rate=0.01, max_iter=100)\n",
        "print(\"Оптимальные веса:\", w_opt)\n",
        "print(\"Оптимальные байесы:\", b_opt)"
      ],
      "metadata": {
        "colab": {
          "base_uri": "https://localhost:8080/"
        },
        "id": "DPkMP5aV7zOm",
        "outputId": "b13ec26a-cf94-480f-b914-24dc9f11e3a1"
      },
      "execution_count": 169,
      "outputs": [
        {
          "output_type": "stream",
          "name": "stderr",
          "text": [
            "100%|██████████| 100/100 [06:11<00:00,  3.72s/it]"
          ]
        },
        {
          "output_type": "stream",
          "name": "stdout",
          "text": [
            "Оптимальные веса: [[-3.42555594e-01]\n",
            " [ 3.05642475e-01]\n",
            " [ 6.46878311e-01]\n",
            " [ 3.02196386e-01]\n",
            " [ 9.14253175e-01]\n",
            " [ 4.32783200e-01]\n",
            " [ 8.49828555e-01]\n",
            " [ 5.35017864e-02]\n",
            " [ 9.73909551e-01]\n",
            " [ 3.35602746e-01]\n",
            " [ 7.78762163e-01]\n",
            " [ 4.55440822e-01]\n",
            " [ 6.59872168e-01]\n",
            " [ 3.07174552e-01]\n",
            " [ 7.27662913e-01]\n",
            " [ 1.70616422e-01]\n",
            " [ 9.62395800e-01]\n",
            " [ 2.74470980e-01]\n",
            " [ 4.71664069e-01]\n",
            " [ 9.88815216e-01]\n",
            " [ 3.73474241e-01]\n",
            " [ 5.52989896e-01]\n",
            " [ 1.89951431e-01]\n",
            " [ 6.86337128e-02]\n",
            " [ 9.30738763e-01]\n",
            " [ 9.12660873e-01]\n",
            " [ 8.40277946e-01]\n",
            " [ 6.00411153e-01]\n",
            " [ 5.37422981e-03]\n",
            " [ 7.56202986e-01]\n",
            " [ 8.57346664e-01]\n",
            " [ 6.96503120e-02]\n",
            " [ 1.61486459e-01]\n",
            " [ 5.23198882e-01]\n",
            " [ 1.98921753e-01]\n",
            " [ 4.15821537e-01]\n",
            " [ 8.57478971e-01]\n",
            " [ 6.64492575e-01]\n",
            " [ 5.88198484e-01]\n",
            " [ 2.07883958e-01]\n",
            " [ 1.95237105e-01]\n",
            " [ 6.78211632e-01]\n",
            " [ 1.74188489e-01]\n",
            " [ 1.70916956e-01]\n",
            " [ 1.87478239e-01]\n",
            " [ 5.86571368e-01]\n",
            " [ 1.73615798e-01]\n",
            " [ 9.37970938e-02]\n",
            " [ 2.75849842e-01]\n",
            " [ 8.73502035e-02]\n",
            " [ 8.91197813e-01]\n",
            " [ 4.51200484e-01]\n",
            " [ 1.34379690e-01]\n",
            " [ 3.43742711e-01]\n",
            " [ 6.44491511e-04]\n",
            " [ 9.68859461e-03]\n",
            " [-3.11483614e-01]\n",
            " [ 4.37795965e-01]\n",
            " [ 1.27230449e-01]\n",
            " [-1.21693231e-01]\n",
            " [ 6.28764940e-02]\n",
            " [-8.00599638e-02]\n",
            " [ 1.13716474e-01]\n",
            " [ 2.36043780e-01]\n",
            " [ 8.75756720e-01]\n",
            " [ 3.09191192e-02]\n",
            " [-1.18508635e-01]\n",
            " [ 6.22951624e-01]\n",
            " [ 2.11042014e-02]\n",
            " [ 4.47429608e-01]\n",
            " [-1.07259129e-01]\n",
            " [ 4.36224167e-01]\n",
            " [ 2.44442792e-01]\n",
            " [-7.57260022e-02]\n",
            " [ 8.27163781e-02]\n",
            " [ 3.15512352e-01]\n",
            " [-9.79588126e-02]\n",
            " [ 8.77470401e-01]\n",
            " [ 1.08017542e-01]\n",
            " [ 1.38598965e-01]\n",
            " [-1.31535882e-01]\n",
            " [-1.12918088e-01]\n",
            " [-2.05025298e-01]\n",
            " [-1.73833273e-01]\n",
            " [-1.47711410e-01]\n",
            " [ 5.00182447e-01]\n",
            " [-5.79566772e-02]\n",
            " [-9.46487336e-02]\n",
            " [-9.17709941e-02]\n",
            " [-6.51054667e-02]\n",
            " [-4.06140989e-02]\n",
            " [ 4.59671082e-01]\n",
            " [ 9.39928129e-02]\n",
            " [ 6.56635994e-02]\n",
            " [ 5.37625114e-01]\n",
            " [ 2.55964038e-01]\n",
            " [ 1.69736328e-01]\n",
            " [ 4.32792238e-02]\n",
            " [ 9.25808271e-02]\n",
            " [ 2.94253367e-01]\n",
            " [ 8.33574848e-01]\n",
            " [ 3.14700342e-01]\n",
            " [ 3.19193538e-01]\n",
            " [ 3.84468688e-01]\n",
            " [ 6.77802393e-01]\n",
            " [ 3.73003038e-01]\n",
            " [ 2.56809320e-01]\n",
            " [-8.03381080e-02]\n",
            " [ 1.33127496e-01]\n",
            " [ 5.85406534e-01]\n",
            " [ 5.10554131e-01]\n",
            " [ 3.53127399e-02]\n",
            " [-5.60942389e-02]\n",
            " [ 3.46367659e-01]\n",
            " [ 2.54605464e-02]\n",
            " [ 3.21671196e-01]\n",
            " [ 2.72121481e-01]\n",
            " [-7.01740587e-02]\n",
            " [ 2.28265564e-01]\n",
            " [-1.42766172e-01]\n",
            " [ 9.40830142e-02]\n",
            " [-9.51356716e-02]\n",
            " [ 2.60974257e-01]\n",
            " [ 4.91267521e-02]\n",
            " [-1.39436046e-02]\n",
            " [-2.24102550e-01]\n",
            " [ 5.41692427e-01]\n",
            " [ 1.33834515e-01]\n",
            " [-3.59207976e-02]\n",
            " [ 1.60380487e-01]\n",
            " [ 1.03628917e-01]\n",
            " [ 1.83483290e-01]\n",
            " [ 1.64449946e-01]\n",
            " [ 1.89380789e-01]\n",
            " [ 2.89839320e-01]\n",
            " [ 4.40008622e-01]\n",
            " [-1.89210780e-02]\n",
            " [-2.84273438e-01]\n",
            " [ 4.41985970e-02]\n",
            " [ 3.49443740e-01]\n",
            " [ 6.56538138e-01]\n",
            " [ 5.89585166e-02]\n",
            " [ 4.96691480e-03]\n",
            " [ 1.55670415e-01]\n",
            " [ 8.34473965e-02]\n",
            " [ 2.44388815e-01]\n",
            " [ 1.73921060e-01]\n",
            " [ 2.40401195e-01]\n",
            " [-2.25877366e-01]\n",
            " [-2.71731302e-02]\n",
            " [-5.49653093e-02]\n",
            " [-1.00901664e-01]\n",
            " [-5.46643242e-03]\n",
            " [-1.79945818e-02]\n",
            " [-3.15399722e-01]\n",
            " [ 3.21911865e-01]\n",
            " [-2.00984953e-01]\n",
            " [-4.15107909e-01]\n",
            " [-4.00959456e-01]\n",
            " [-3.13135028e-01]\n",
            " [ 1.94625282e-01]\n",
            " [-2.23301320e-02]\n",
            " [-5.25745838e-01]\n",
            " [ 3.33304182e-01]\n",
            " [-1.41441530e-01]\n",
            " [-2.98414917e-01]\n",
            " [-5.61101808e-01]\n",
            " [ 6.02898367e-01]]\n",
            "Оптимальные байесы: [ 2.34780688 -2.6440795  -0.58653144 ...  2.63972437 -1.2609078\n",
            " -2.45236569]\n"
          ]
        },
        {
          "output_type": "stream",
          "name": "stderr",
          "text": [
            "\n"
          ]
        }
      ]
    },
    {
      "cell_type": "code",
      "source": [
        "print(X_train.shape)\n",
        "print(y_train.shape)\n",
        "print(w_opt.shape)\n",
        "print(b_opt.shape)\n",
        "b_opt = b_opt.reshape(-1, 1)\n",
        "print(b_opt.shape)"
      ],
      "metadata": {
        "colab": {
          "base_uri": "https://localhost:8080/"
        },
        "id": "rPRlzH3aN8US",
        "outputId": "fe602ba6-894a-4ccf-dc7e-ba638043b014"
      },
      "execution_count": 170,
      "outputs": [
        {
          "output_type": "stream",
          "name": "stdout",
          "text": [
            "(10400, 168)\n",
            "(10400,)\n",
            "(168, 1)\n",
            "(10400,)\n",
            "(10400, 1)\n"
          ]
        }
      ]
    },
    {
      "cell_type": "code",
      "source": [
        "import sklearn\n",
        "\n",
        "# Функция для оценки модели\n",
        "def productive(X, y, w, b):\n",
        "  y_pred = line(X, w, b)\n",
        "  mse = sklearn.metrics.mean_squared_error(y, y_pred)\n",
        "  r2 = sklearn.metrics.r2_score(y, y_pred)\n",
        "  return mse, r2\n",
        "print(X_train.shape, y_train.shape)\n",
        "print(X_test.shape, y_test.shape)\n",
        "# Оценка модели на обучающем наборе\n",
        "train_mse, train_r2 = productive(X_train, y_train, w_opt, b_opt)\n",
        "print(\"GD_train MSE:\", train_mse)\n",
        "print(\"GD_train R²:\", train_r2)\n",
        "\n",
        "# Оценка модели на тестовом наборе\n",
        "# test_mse, test_r2 = productive(X_test, y_test, w_opt, b_opt)\n",
        "# print(\"Test MSE:\", test_mse)\n",
        "# print(\"Test R²:\", test_r2)\n"
      ],
      "metadata": {
        "colab": {
          "base_uri": "https://localhost:8080/"
        },
        "id": "cchVu2d2HVSU",
        "outputId": "b0bd1da9-088f-4b03-8d3f-4a8a0cf67f84"
      },
      "execution_count": 181,
      "outputs": [
        {
          "output_type": "stream",
          "name": "stdout",
          "text": [
            "(10400, 168) (10400,)\n",
            "(2600, 168) (2600,)\n",
            "GD_train MSE: 3.2720046594399417\n",
            "GD_train R²: -2.875599330864896\n"
          ]
        }
      ]
    }
  ]
}